{
 "cells": [
  {
   "cell_type": "code",
   "execution_count": 24,
   "id": "2ed28fbb",
   "metadata": {},
   "outputs": [
    {
     "name": "stdout",
     "output_type": "stream",
     "text": [
      "Twinkle, twinkle, little star,\n",
      "         how I wonder What you areI\n",
      "                 Up above the world so high,\n",
      "                 Like a diamond in the sky.\n",
      "Twinkle, twinkle, little star,\n",
      "         how I wonder What you are\n"
     ]
    }
   ],
   "source": [
    "# Qno 1 of assignment:\n",
    "#output style\n",
    "a=\"Twinkle, twinkle, little star,\"\n",
    "b=\"         how I wonder What you areI\"\n",
    "c=\"                 Up above the world so high,\"\n",
    "d=\"                 Like a diamond in the sky.\"\n",
    "e=\"Twinkle, twinkle, little star,\"\n",
    "f=\"         how I wonder What you are\"\n",
    "# output\n",
    "print(a)\n",
    "print(b)\n",
    "print(c)\n",
    "print(d)\n",
    "print(e)\n",
    "print(f)\n"
   ]
  },
  {
   "cell_type": "code",
   "execution_count": 2,
   "id": "b15430c0",
   "metadata": {},
   "outputs": [
    {
     "name": "stdout",
     "output_type": "stream",
     "text": [
      "Python version i am using in my system is\n",
      "3.9.7 (default, Sep 16 2021, 16:59:28) [MSC v.1916 64 bit (AMD64)]\n"
     ]
    }
   ],
   "source": [
    "#QNO2 of assignment\n",
    "# Library of python we import\n",
    "import sys      \n",
    "print(\"Python version i am using in my system is\")\n",
    "print (sys.version)"
   ]
  },
  {
   "cell_type": "code",
   "execution_count": 3,
   "id": "45f3709d",
   "metadata": {},
   "outputs": [
    {
     "name": "stdout",
     "output_type": "stream",
     "text": [
      "Current date and time of my system is : \n",
      "01-01-2022     18:19:40\n"
     ]
    }
   ],
   "source": [
    "# Qno3 of Assignment:\n",
    "# Current Date and time in my system is:\n",
    "# import date library istly\n",
    "import datetime\n",
    "# now means at this time\n",
    "now = datetime.datetime.now()\n",
    "print (\"Current date and time of my system is : \")\n",
    "#strftime is used to convert date and time into string for representation\n",
    "print (now.strftime(\"%d-%m-%Y     %H:%M:%S\"))\n"
   ]
  },
  {
   "cell_type": "code",
   "execution_count": 2,
   "id": "aef7291f",
   "metadata": {},
   "outputs": [
    {
     "name": "stdout",
     "output_type": "stream",
     "text": [
      "enter the radius of circle:3\n",
      "Area of circle is: 28.274333882308138\n"
     ]
    }
   ],
   "source": [
    "#Qno4 of Assignment:\n",
    "#radius of circle\n",
    "# Pi=3.1416\n",
    "from math import pi\n",
    "radius=float(input(\"enter the radius of circle:\"))\n",
    "area_of_circle=pi*(radius*radius)\n",
    "print(\"Area of circle is:\",area_of_circle)\n",
    "\n"
   ]
  },
  {
   "cell_type": "code",
   "execution_count": 10,
   "id": "bfc78927",
   "metadata": {},
   "outputs": [
    {
     "name": "stdout",
     "output_type": "stream",
     "text": [
      " My First Name is : momna jannat\n",
      "My Last Name is : gardezi\n",
      "momna jannatgardezi\n"
     ]
    }
   ],
   "source": [
    "#Qno5 of Assignment:\n",
    "# display in reverse order\n",
    "first = input(\" My First Name is : \")\n",
    "last = input(\" My Last Name is : \")\n",
    "\n",
    "\n",
    "full= first+last\n",
    "\n"
   ]
  },
  {
   "cell_type": "code",
   "execution_count": 14,
   "id": "089f4522",
   "metadata": {},
   "outputs": [
    {
     "name": "stdout",
     "output_type": "stream",
     "text": [
      "tannaJ anmoM  izedraG \n"
     ]
    }
   ],
   "source": [
    "#Qno6 of Assignment\n",
    "# first and last name and addition perform\n",
    "first=\"Momna Jannat\"\n",
    "last=\" Gardezi\"\n",
    "fullname=first[::-1] + \"  \" +last [::-1]\n",
    "# or we print in reverse by print ist last and first\n",
    "print(fullname)"
   ]
  },
  {
   "cell_type": "code",
   "execution_count": null,
   "id": "7b8cffee",
   "metadata": {},
   "outputs": [],
   "source": []
  }
 ],
 "metadata": {
  "kernelspec": {
   "display_name": "Python 3 (ipykernel)",
   "language": "python",
   "name": "python3"
  },
  "language_info": {
   "codemirror_mode": {
    "name": "ipython",
    "version": 3
   },
   "file_extension": ".py",
   "mimetype": "text/x-python",
   "name": "python",
   "nbconvert_exporter": "python",
   "pygments_lexer": "ipython3",
   "version": "3.9.7"
  }
 },
 "nbformat": 4,
 "nbformat_minor": 5
}
